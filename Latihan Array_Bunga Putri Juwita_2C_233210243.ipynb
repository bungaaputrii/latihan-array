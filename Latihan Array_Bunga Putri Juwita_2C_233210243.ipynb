{
 "cells": [
  {
   "cell_type": "markdown",
   "metadata": {},
   "source": [
    "# LATIHAN ARRAY"
   ]
  },
  {
   "cell_type": "code",
   "execution_count": 1,
   "metadata": {},
   "outputs": [
    {
     "name": "stdout",
     "output_type": "stream",
     "text": [
      "[[[ 1136    49 28070]]]\n"
     ]
    }
   ],
   "source": [
    "# perkalian matriks array\n",
    "\n",
    "import numpy as np\n",
    "\n",
    "A = np.array([[[16, 7, 2005]]])\n",
    "B = np.array([[71, 7, 14]])\n",
    "\n",
    "kali = A * B\n",
    "print(kali)"
   ]
  },
  {
   "cell_type": "code",
   "execution_count": 2,
   "metadata": {},
   "outputs": [
    {
     "name": "stdout",
     "output_type": "stream",
     "text": [
      "[[[ -55    0 1991]]]\n"
     ]
    }
   ],
   "source": [
    "# pengurangan matriks array\n",
    "\n",
    "import numpy as np\n",
    "\n",
    "A = np.array([[[16, 7, 2005]]])\n",
    "B = np.array([[71, 7, 14]])\n",
    "\n",
    "kurang = A - B\n",
    "print(kurang)"
   ]
  },
  {
   "cell_type": "code",
   "execution_count": 3,
   "metadata": {},
   "outputs": [
    {
     "name": "stdout",
     "output_type": "stream",
     "text": [
      "[[  16   71]\n",
      " [   7    7]\n",
      " [2005   14]]\n"
     ]
    }
   ],
   "source": [
    "# tranpose matrix array\n",
    "\n",
    "import numpy as np \n",
    "\n",
    "A = np.array([[16,7,2005],[71,7,14]])\n",
    "\n",
    "transpose_A = np.transpose(A)\n",
    "print(transpose_A)"
   ]
  },
  {
   "cell_type": "code",
   "execution_count": 4,
   "metadata": {},
   "outputs": [
    {
     "name": "stdout",
     "output_type": "stream",
     "text": [
      "\n",
      " invers matriks A:\n",
      "[[ 0.08       -0.04      ]\n",
      " [-0.04        0.09142857]]\n"
     ]
    }
   ],
   "source": [
    "# inverse matriks array\n",
    "\n",
    "import numpy as np\n",
    "\n",
    "A = np.array([[16,7] , [7,14]])\n",
    "\n",
    "inverse_A = np.linalg.inv(A)\n",
    "print(\"\\n invers matriks A:\")\n",
    "print(inverse_A)"
   ]
  },
  {
   "cell_type": "code",
   "execution_count": 5,
   "metadata": {},
   "outputs": [
    {
     "name": "stdout",
     "output_type": "stream",
     "text": [
      "determinant dari matriks A: 175.00000000000006\n"
     ]
    }
   ],
   "source": [
    "# determinant matiks array\n",
    "\n",
    "import numpy as np\n",
    "\n",
    "A = np.array([[16,7],[7,14]])\n",
    "\n",
    "determinant_A = np.linalg.det(A)\n",
    "print(\"determinant dari matriks A:\",determinant_A)"
   ]
  }
 ],
 "metadata": {
  "kernelspec": {
   "display_name": "Python 3",
   "language": "python",
   "name": "python3"
  },
  "language_info": {
   "codemirror_mode": {
    "name": "ipython",
    "version": 3
   },
   "file_extension": ".py",
   "mimetype": "text/x-python",
   "name": "python",
   "nbconvert_exporter": "python",
   "pygments_lexer": "ipython3",
   "version": "3.12.2"
  }
 },
 "nbformat": 4,
 "nbformat_minor": 2
}
